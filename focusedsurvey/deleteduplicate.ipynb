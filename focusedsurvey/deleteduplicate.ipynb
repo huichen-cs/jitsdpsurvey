{
 "cells": [
  {
   "cell_type": "code",
   "execution_count": 40,
   "id": "sticky-consumer",
   "metadata": {},
   "outputs": [],
   "source": [
    "import pandas as pd\n",
    "import numpy as np"
   ]
  },
  {
   "cell_type": "code",
   "execution_count": 41,
   "id": "selective-lawsuit",
   "metadata": {},
   "outputs": [],
   "source": [
    "ieee = pd.read_csv(\"IEEE\\\\ieee.csv\")"
   ]
  },
  {
   "cell_type": "code",
   "execution_count": 42,
   "id": "fossil-stuart",
   "metadata": {},
   "outputs": [],
   "source": [
    "def preprocess(inputlist):\n",
    "    ret = []\n",
    "    for i in range(len(inputlist)):\n",
    "        ret.append(inputlist[i].lower())\n",
    "    return ret"
   ]
  },
  {
   "cell_type": "code",
   "execution_count": 43,
   "id": "acoustic-numbers",
   "metadata": {},
   "outputs": [],
   "source": [
    "ieeetitle = preprocess(ieee[\"Document Title\"])"
   ]
  },
  {
   "cell_type": "code",
   "execution_count": 44,
   "id": "incomplete-wales",
   "metadata": {},
   "outputs": [
    {
     "data": {
      "text/plain": [
       "['[journal first] are fix-inducing changes a moving target?: a longitudinal case study of just-in-time defect prediction',\n",
       " 'poster: bridging effort-aware prediction and strong classification - a just-in-time software defect prediction study',\n",
       " 'jitline: a simpler, better, faster, finer-grained just-in-time defect prediction',\n",
       " 'explainable just-in-time bug prediction: are we there yet?',\n",
       " 'simplified deep forest model based just-in-time defect prediction for android mobile apps',\n",
       " 'deep learning for just-in-time defect prediction',\n",
       " 'just-in-time bug prediction in mobile applications: the domain matters!',\n",
       " 'enhancing just-in-time defect prediction using change request-based metrics',\n",
       " 'effort-aware just-in-time bug prediction for mobile apps via cross-triplet deep feature embedding',\n",
       " 'the impact of mislabeled changes by szz on just-in-time defect prediction',\n",
       " 'simplified deep forest model based just-in-time defect prediction for android mobile apps',\n",
       " 'watch out for extrinsic bugs! a case study of their impact in just-in-time bug prediction models on the openstack project',\n",
       " 'are fix-inducing changes a moving target? a longitudinal case study of just-in-time defect prediction',\n",
       " 'code churn: a neglected metric in effort-aware just-in-time defect prediction',\n",
       " 'how well just-in-time defect prediction techniques enhance software reliability?',\n",
       " 'jitbot: an explainable just-in-time defect prediction bot',\n",
       " 'deepjit: an end-to-end deep learning framework for just-in-time defect prediction',\n",
       " 'cross-project just-in-time bug prediction for mobile apps: an empirical assessment',\n",
       " 'a just-in-time compiler for a reconfigurable testing platform',\n",
       " 'the relationship between commit message detail and defect proneness in java projects on github',\n",
       " 'a replication study: just-in-time defect prediction with ensemble learning',\n",
       " 'static source code metrics and static analysis warnings for fine-grained just-in-time defect prediction',\n",
       " 'an investigation of cross-project learning in online just-in-time software defect prediction',\n",
       " 'supervised vs unsupervised models: a holistic look at effort-aware just-in-time defect prediction',\n",
       " 'the impact of data merging on the interpretation of cross-project just-in-time defect models',\n",
       " 'a large-scale empirical study of just-in-time quality assurance',\n",
       " 'deep semantic feature learning for software defect prediction',\n",
       " 'a preliminary evaluation of cpdp approaches on just-in-time software defect prediction',\n",
       " 'the impact of human discussions on just-in-time quality assurance: an empirical study on openstack and eclipse',\n",
       " 'an implementation of just-in-time fault-prone prediction technique using text classifier',\n",
       " 'leveraging fault localisation to enhance defect prediction',\n",
       " 'the impact of duplicate changes on just-in-time defect prediction',\n",
       " 'automatic feature exploration and an application in defect prediction',\n",
       " 'class imbalance evolution and verification latency in just-in-time software defect prediction',\n",
       " 'revisiting the impact of concept drift on just-in-time quality assurance',\n",
       " 'vuldigger: a just-in-time and cost-aware tool for digging vulnerability-contributing changes',\n",
       " 'file-level defect prediction: unsupervised vs. supervised models',\n",
       " 'a study of applying deep learning-based weighted combinations to improve defect prediction accuracy and effectiveness',\n",
       " 'continuous defect prediction: the idea and a related dataset',\n",
       " 'clever: combining code metrics with clone detection for just-in-time fault prevention and resolution in large industrial projects',\n",
       " 'predicting defects with latent and semantic features from commit logs in an industrial setting',\n",
       " 'personalized defect prediction',\n",
       " 'warning-introducing commits vs bug-introducing commits: a tool, statistical models, and a preliminary user study',\n",
       " 'assessing personalized software defect predictors',\n",
       " 'online defect prediction for imbalanced data',\n",
       " 'does socio-technical congruence have an effect on continuous integration build failures? an empirical study on 10 github projects',\n",
       " 'large-scale empirical studies on effort-aware security vulnerability prediction methods',\n",
       " 'time series prediction algorithm for intelligent predictive maintenance',\n",
       " 'fault class prediction in unsupervised learning using model-based clustering approach',\n",
       " 'integration of fiber optic cable diagnostics within aerospace transceivers',\n",
       " 'a non-intrusive deep learning based diagnosis system for elevators',\n",
       " 'predicting risk of pre-release code changes with checkinmentor',\n",
       " 'the ghost commit problem when identifying fix-inducing changes: an empirical study of apache projects',\n",
       " 'cc2vec: distributed representations of code changes',\n",
       " 'table of contents']"
      ]
     },
     "execution_count": 44,
     "metadata": {},
     "output_type": "execute_result"
    }
   ],
   "source": [
    "ieeetitle"
   ]
  },
  {
   "cell_type": "code",
   "execution_count": 45,
   "id": "hundred-scratch",
   "metadata": {},
   "outputs": [],
   "source": [
    "ieeetitle = set(ieeetitle)"
   ]
  },
  {
   "cell_type": "code",
   "execution_count": 46,
   "id": "romantic-brunswick",
   "metadata": {},
   "outputs": [
    {
     "data": {
      "text/plain": [
       "54"
      ]
     },
     "execution_count": 46,
     "metadata": {},
     "output_type": "execute_result"
    }
   ],
   "source": [
    "len(ieeetitle)"
   ]
  },
  {
   "cell_type": "code",
   "execution_count": 47,
   "id": "eight-craft",
   "metadata": {},
   "outputs": [
    {
     "data": {
      "text/plain": [
       "{'[journal first] are fix-inducing changes a moving target?: a longitudinal case study of just-in-time defect prediction',\n",
       " 'a just-in-time compiler for a reconfigurable testing platform',\n",
       " 'a large-scale empirical study of just-in-time quality assurance',\n",
       " 'a non-intrusive deep learning based diagnosis system for elevators',\n",
       " 'a preliminary evaluation of cpdp approaches on just-in-time software defect prediction',\n",
       " 'a replication study: just-in-time defect prediction with ensemble learning',\n",
       " 'a study of applying deep learning-based weighted combinations to improve defect prediction accuracy and effectiveness',\n",
       " 'an implementation of just-in-time fault-prone prediction technique using text classifier',\n",
       " 'an investigation of cross-project learning in online just-in-time software defect prediction',\n",
       " 'are fix-inducing changes a moving target? a longitudinal case study of just-in-time defect prediction',\n",
       " 'assessing personalized software defect predictors',\n",
       " 'automatic feature exploration and an application in defect prediction',\n",
       " 'cc2vec: distributed representations of code changes',\n",
       " 'class imbalance evolution and verification latency in just-in-time software defect prediction',\n",
       " 'clever: combining code metrics with clone detection for just-in-time fault prevention and resolution in large industrial projects',\n",
       " 'code churn: a neglected metric in effort-aware just-in-time defect prediction',\n",
       " 'continuous defect prediction: the idea and a related dataset',\n",
       " 'cross-project just-in-time bug prediction for mobile apps: an empirical assessment',\n",
       " 'deep learning for just-in-time defect prediction',\n",
       " 'deep semantic feature learning for software defect prediction',\n",
       " 'deepjit: an end-to-end deep learning framework for just-in-time defect prediction',\n",
       " 'does socio-technical congruence have an effect on continuous integration build failures? an empirical study on 10 github projects',\n",
       " 'effort-aware just-in-time bug prediction for mobile apps via cross-triplet deep feature embedding',\n",
       " 'enhancing just-in-time defect prediction using change request-based metrics',\n",
       " 'explainable just-in-time bug prediction: are we there yet?',\n",
       " 'fault class prediction in unsupervised learning using model-based clustering approach',\n",
       " 'file-level defect prediction: unsupervised vs. supervised models',\n",
       " 'how well just-in-time defect prediction techniques enhance software reliability?',\n",
       " 'integration of fiber optic cable diagnostics within aerospace transceivers',\n",
       " 'jitbot: an explainable just-in-time defect prediction bot',\n",
       " 'jitline: a simpler, better, faster, finer-grained just-in-time defect prediction',\n",
       " 'just-in-time bug prediction in mobile applications: the domain matters!',\n",
       " 'large-scale empirical studies on effort-aware security vulnerability prediction methods',\n",
       " 'leveraging fault localisation to enhance defect prediction',\n",
       " 'online defect prediction for imbalanced data',\n",
       " 'personalized defect prediction',\n",
       " 'poster: bridging effort-aware prediction and strong classification - a just-in-time software defect prediction study',\n",
       " 'predicting defects with latent and semantic features from commit logs in an industrial setting',\n",
       " 'predicting risk of pre-release code changes with checkinmentor',\n",
       " 'revisiting the impact of concept drift on just-in-time quality assurance',\n",
       " 'simplified deep forest model based just-in-time defect prediction for android mobile apps',\n",
       " 'static source code metrics and static analysis warnings for fine-grained just-in-time defect prediction',\n",
       " 'supervised vs unsupervised models: a holistic look at effort-aware just-in-time defect prediction',\n",
       " 'table of contents',\n",
       " 'the ghost commit problem when identifying fix-inducing changes: an empirical study of apache projects',\n",
       " 'the impact of data merging on the interpretation of cross-project just-in-time defect models',\n",
       " 'the impact of duplicate changes on just-in-time defect prediction',\n",
       " 'the impact of human discussions on just-in-time quality assurance: an empirical study on openstack and eclipse',\n",
       " 'the impact of mislabeled changes by szz on just-in-time defect prediction',\n",
       " 'the relationship between commit message detail and defect proneness in java projects on github',\n",
       " 'time series prediction algorithm for intelligent predictive maintenance',\n",
       " 'vuldigger: a just-in-time and cost-aware tool for digging vulnerability-contributing changes',\n",
       " 'warning-introducing commits vs bug-introducing commits: a tool, statistical models, and a preliminary user study',\n",
       " 'watch out for extrinsic bugs! a case study of their impact in just-in-time bug prediction models on the openstack project'}"
      ]
     },
     "execution_count": 47,
     "metadata": {},
     "output_type": "execute_result"
    }
   ],
   "source": [
    "ieeetitle"
   ]
  },
  {
   "cell_type": "code",
   "execution_count": 48,
   "id": "conventional-latitude",
   "metadata": {},
   "outputs": [],
   "source": [
    "springerlink = pd.read_csv(\"SpringerLink\\\\SearchResults.csv\")"
   ]
  },
  {
   "cell_type": "code",
   "execution_count": 49,
   "id": "noticed-brighton",
   "metadata": {},
   "outputs": [
    {
     "data": {
      "text/plain": [
       "334"
      ]
     },
     "execution_count": 49,
     "metadata": {},
     "output_type": "execute_result"
    }
   ],
   "source": [
    "len(springerlink)"
   ]
  },
  {
   "cell_type": "code",
   "execution_count": 50,
   "id": "designed-medline",
   "metadata": {},
   "outputs": [],
   "source": [
    "springerlinktitles = []\n",
    "for i in range(len(springerlink)):\n",
    "    if springerlink[\"Content Type\"][i]!=\"Book\" and springerlink[\"Content Type\"][i]!=\"Book and Conference Proceedings\":\n",
    "        springerlinktitles.append(springerlink[\"Item Title\"][i])"
   ]
  },
  {
   "cell_type": "code",
   "execution_count": 51,
   "id": "fourth-strength",
   "metadata": {},
   "outputs": [
    {
     "data": {
      "text/plain": [
       "249"
      ]
     },
     "execution_count": 51,
     "metadata": {},
     "output_type": "execute_result"
    }
   ],
   "source": [
    "len(springerlinktitles)"
   ]
  },
  {
   "cell_type": "code",
   "execution_count": 52,
   "id": "improved-testing",
   "metadata": {},
   "outputs": [],
   "source": [
    "springerlinktitle = preprocess(springerlinktitles)"
   ]
  },
  {
   "cell_type": "code",
   "execution_count": 53,
   "id": "threatened-restoration",
   "metadata": {},
   "outputs": [
    {
     "data": {
      "text/plain": [
       "['just-in-time software defect prediction using deep temporal convolutional networks',\n",
       " 'studying just-in-time defect prediction using cross-project models',\n",
       " 'an empirical study of ensemble techniques for software fault prediction',\n",
       " 'an empirical study on data sampling for just-in-time defect prediction',\n",
       " 'weighted software metrics aggregation and its application to defect prediction',\n",
       " 'revisiting supervised and unsupervised models for effort-aware just-in-time defect prediction',\n",
       " 'effort-aware tri-training for semi-supervised just-in-time defect prediction',\n",
       " 'the impact of context metrics on just-in-time defect prediction',\n",
       " 'a cluster based feature selection method for cross-project software defect prediction',\n",
       " 'types of software fault prediction',\n",
       " 'encyclopedia of gis',\n",
       " 'dp-share: privacy-preserving software defect prediction model sharing through differential privacy',\n",
       " 'predicting and monitoring bug-proneness at the feature level',\n",
       " 'balancing the trade-off between accuracy and interpretability in software defect prediction',\n",
       " 'evaluating the impact of falsely detected performance bug-inducing changes in jit models',\n",
       " 'on the time-based conclusion stability of cross-project defect prediction models',\n",
       " 'combined classifier for cross-project defect prediction: an extended empirical study',\n",
       " 'empirical evaluation of hunk metrics as bug predictors',\n",
       " 'is bigger data better for defect prediction: examining the impact of data size on supervised and unsupervised defect prediction',\n",
       " 'evaluating network embedding techniques’ performances in software bug prediction',\n",
       " 'defect prediction model of static code features for cross-company and cross-project software',\n",
       " 'improving the quality of software by quantifying the code change metric and predicting the bugs',\n",
       " 'cross project defect prediction via balanced distribution adaptation based transfer learning',\n",
       " 'on the assessment of software defect prediction models via roc curves',\n",
       " 'searching for bellwether developers for cross-personalized defect prediction',\n",
       " 'does class size matter? an in-depth assessment of the effect of class size in software defect prediction',\n",
       " 'cost-sensitive transfer kernel canonical correlation analysis for heterogeneous defect prediction',\n",
       " 'studying high impact fix-inducing changes',\n",
       " 'the impact of automated feature selection techniques on the interpretation of defect models',\n",
       " 'an empirical study of crash-inducing commits in mozilla firefox',\n",
       " 'high-impact bug report identification with imbalanced learning strategies',\n",
       " 'tackling class overlap and imbalance problems in software defect prediction',\n",
       " 'training data selection using ensemble dataset approach for software defect prediction',\n",
       " 'a cost-sensitive shared hidden layer autoencoder for cross-project defect prediction',\n",
       " 'just-in-time customer churn prediction in the telecommunication sector',\n",
       " 'experiences and challenges of introducing risk-based testing in an industrial project',\n",
       " 'guest editorial: mining software repositories',\n",
       " 'an empirical study on the use of szz for identifying inducing changes of non-functional bugs',\n",
       " 'integrating manual and automatic risk assessment for risk-based testing',\n",
       " 'assessing and optimizing the performance impact of the just-in-time configuration parameters - a case study on pypy',\n",
       " 'experience report: investigating bug fixes in machine learning frameworks/libraries',\n",
       " 'towards just-in-time suggestions for log changes',\n",
       " 'encyclopedia of big data technologies',\n",
       " 'encyclopedia of database systems',\n",
       " 'boosting crash-inducing change localization with rank-performance-based feature subset selection',\n",
       " 'data mining for software engineering and humans in the loop',\n",
       " 'handbook of smart cities',\n",
       " 'predicting defective modules in different test phases',\n",
       " 'addressing problems with replicability and validity of repository mining studies through a smart data platform',\n",
       " 'continuous build outcome prediction: a small-n experiment in settings of a real software project',\n",
       " \"exploring the interaction between java's implicitly thrown exceptions and instruction scheduling\",\n",
       " 'accurate proactive adaptation of service-oriented systems',\n",
       " 'encyclopedia of cryptography and security',\n",
       " 'strategy development, risk assessment and resource management: some issues related to the implementation of the verification regime of the chemical weapons convention',\n",
       " 'jaskier: a supporting software tool for\\xa0continuous build outcome prediction practice',\n",
       " 'manage risk in the language of business',\n",
       " 'instruction scheduling in the presence of java’s runtime exceptions',\n",
       " 'how bugs are born: a model to identify how bugs are introduced in software components',\n",
       " 'on the need of functional priority and failure risk assessment to optimize human resource allocation in public service organizations',\n",
       " 'integrative education model for resources and critical infrastructure protection based on risk assessment, resources valorization and threat ranking',\n",
       " 'changelocator: locate crash-inducing changes based on crash reports',\n",
       " 'the relation of test-related factors to software quality: a case study on apache systems',\n",
       " 'encyclopedia of education and information technologies',\n",
       " 'cregit: token-level blame information in git version control repositories',\n",
       " 'ammonia: an approach for deriving project-specific bug patterns',\n",
       " 'a review of system modeling, assessment and operational optimization for integrated energy systems',\n",
       " 'generating knowledge for the identification of device failure causes and the prediction of the times-to-failure in u-healthcare environments',\n",
       " 'on the need of preserving order of data when validating within-project defect classifiers',\n",
       " 'development and implementation of a safety management system in a lean airline',\n",
       " 'fractionated software for networked cyber-physical systems: research directions and long-term vision',\n",
       " 'prompt, a decision support system for opportunity-based preventive maintenance',\n",
       " 'capa: the spirit of beaver against physical attacks',\n",
       " 'process variability through automated late selection of fragments',\n",
       " 'a study on the changes of dynamic feature code when fixing bugs: towards the benefits and costs of python dynamic features',\n",
       " 'computer vision',\n",
       " 'a hybrid anomaly detection framework in cloud computing using one-class and two-class support vector machines',\n",
       " 'operational analysis and basic queueing models',\n",
       " 'integrated neurofuzzy-jitl model and its application in batch processes',\n",
       " 'debugging aspect-enabled programs',\n",
       " 'corrective commit probability: a measure of the effort invested in bug fixing',\n",
       " 'potential rating indicators for cyberinsurance: an exploratory qualitative study',\n",
       " 'scripting .net using mondrian',\n",
       " 'case study 1: evolution of a legacy system',\n",
       " 'sector-specific information infrastructure issues in the oil, gas, and petrochemical sector',\n",
       " 'how to keep your head above water while detecting errors',\n",
       " 'jarvis, a hardware/software framework for resilient industry 4.0 systems',\n",
       " 'the secret life of test smells - an empirical study on test smell evolution and maintenance',\n",
       " 'software development bug tracking: “tool isn’t user friendly” or “user isn’t process friendly”',\n",
       " 'a markov model for fault-tolerant task parallel computations',\n",
       " 'effective enhancement of loop versioning in java',\n",
       " 'chapter 5: security and management',\n",
       " 'editor’s note: special section on software maintenance and evolution',\n",
       " 'integrating a general bayesian network with multi-agent simulation to optimize supply chain management',\n",
       " 'robot/vision system calibrations in automated assembly',\n",
       " 'a method of multi-perspective assessment of lean management',\n",
       " 'exploiting domain ontologies and intelligent agents: an automated network management support paradigm',\n",
       " 'a concept for an it-supported integrated earnings and risk management to strengthen the resilience of companies in times of crisis',\n",
       " 'quick remedy commits and their impact on mining software repositories',\n",
       " 'towards smartphone-based assessment of burnout',\n",
       " 'high performance numerical computing in java: language and compiler issues',\n",
       " 'practical risk management',\n",
       " 'scm: supply chain management',\n",
       " 'equity arbitrage',\n",
       " 'reliable condition monitoring of telecommunication services with time-varying load characteristic',\n",
       " 'verifying the stability and sensitivity of learning analytics based prediction models: an extended case study',\n",
       " 'pki as part of an integrated risk management strategy for web security',\n",
       " 'assessgrid strategies for provider ranking mechanisms in risk–aware grid systems',\n",
       " 'a multi-agent scheduling model for maximizing agent satisfaction',\n",
       " 'internal structure',\n",
       " 'global scheduling based reliability-aware power management for multiprocessor real-time systems',\n",
       " 'a framework for integrated proactive maintenance decision making and supplier selection',\n",
       " 'security code smells in android icc',\n",
       " 'integration of manufacturing system and product design with dmu',\n",
       " 'high-confidence compositional reliability assessment of soa-based systems using machine learning techniques',\n",
       " 'change-enabled software systems',\n",
       " 'a state of the art review of intelligent scheduling',\n",
       " 'emerging topics in mining software repositories',\n",
       " 'analyzing privacy risk in human mobility data',\n",
       " 'introduction to part iii: markers to mhealth predictors',\n",
       " 'a framework for model-driven engineering of resilient software-controlled systems',\n",
       " 'hci requirements for transparency and accountability tools for cloud service chains',\n",
       " 'formal specification and verification of the pgvt algorithm',\n",
       " 'practical security aspects of the internet of things',\n",
       " 'rem in agile projects',\n",
       " 'modeling opportunities in mhealth cyber-physical systems',\n",
       " 'enabling a pervasive approach for intelligent decision support in critical health care',\n",
       " 'achieving dependability in service-oriented systems',\n",
       " 'establishing operational models for dynamic compilation in a simulation platform',\n",
       " 'data assurance in opaque computations',\n",
       " 'a learning roadmap for digital lean manufacturing',\n",
       " 'a sanctuary for mobile agents',\n",
       " 'impacts of tei on smes',\n",
       " 'drastic: a run-time architecture for evolving, distributed, persistent systems',\n",
       " 'research topics in spoken dialogue technology',\n",
       " 'predictable parallel performance: the bsp model',\n",
       " 'enhancing regional digital preparedness on natural hazards to safeguard business resilience in the asia-pacific',\n",
       " 'early warning system potential for single sourcing risk mitigation',\n",
       " 'creating components',\n",
       " 'digital manufacturing/industry 4.0',\n",
       " 'case studies: synthesis of addm algorithms for real-world systems',\n",
       " 'a process framework combining safety and security in practice',\n",
       " 'protecting personal information in cloud computing',\n",
       " 'teaching and computers',\n",
       " 'the anticipatory approach: definitions and taxonomies',\n",
       " 'scheduling in overlaid star all-photonic networks with large propagation delays',\n",
       " 'bringing interactive process mining to health professionals: interactive data rodeos',\n",
       " 'integration of risk and resilience into policy',\n",
       " 'simplify and rationalize it and security',\n",
       " 'tailoring interface for spanish language: a case study with chica system',\n",
       " 'maintenance management characterization: process, framework and supporting pillars',\n",
       " 'towards a generic resilience management, quantification and development process: general definitions, requirements, methods, techniques and measures, and case studies',\n",
       " 'dimensions of cybersecurity risk management',\n",
       " 'a survival analysis of source files modified by new developers',\n",
       " 'estimating the number of remaining links in traceability recovery',\n",
       " 'getting started with azure security center',\n",
       " 'it enabled risk management for taxation and customs: the case of aeo assessment in the netherlands',\n",
       " 'sample privileged access management use cases',\n",
       " 'safety assurance of open adaptive systems – a survey',\n",
       " 'using modeling and simulation as a framework for testing new solutions devoted to securing global flows of goods and people',\n",
       " 'current state of security',\n",
       " 'a survey on the moving target defense strategies: an architectural perspective',\n",
       " 'discrete event complex systems: scheduling with neural networks',\n",
       " 'a conceptual framework for stage configuration',\n",
       " 'workflow scheduling in cloud: a survey',\n",
       " 'achieving agility in it project portfolios – a systematic literature review',\n",
       " 'information and knowledge economies',\n",
       " 'using classification methods to reinforce the impact of social factors on software success',\n",
       " 'versionized process based on non-volatile random-access memory for fine-grained fault tolerance',\n",
       " 'introducing policy-driven governance and service level failure mitigation in cloud service brokers: challenges ahead',\n",
       " 'overview of agile software development',\n",
       " 'information systems management',\n",
       " 'student and expert modelling for simulation-based training: a cost effective framework',\n",
       " 'an exploratory study of risk factors for implementing service-oriented is projects',\n",
       " 'safety case development - a practical guide',\n",
       " 'quality-related locally weighted soft sensing for non-stationary processes by a supervised bayesian network with latent variables',\n",
       " 'traffic management for cloud federation',\n",
       " 'a survey on spot pricing in cloud computing',\n",
       " 'galileo: a simulation tool for leo satellite constellations',\n",
       " 'errors and error recovery',\n",
       " 'the future(s) of social machines: the research agenda',\n",
       " 'particle filtering-based methods for time to failure estimation with a real-world prognostic application',\n",
       " 'dependability as ordinary action',\n",
       " 'security and governance',\n",
       " 'a reference architecture for iot-enabled dynamic planning in smart logistics',\n",
       " 'smart car space: an application',\n",
       " 'a taxonomy of side channel attacks on critical infrastructures and relevant systems',\n",
       " 'threat poker: gamification of secure agile',\n",
       " 'assessment of agile maturity models: a multiple case study',\n",
       " 'relation between abductive and inductive types of nursing risk management',\n",
       " 'architecture for digital spare-parts library: use of additive layer manufacturing in the petroleum industry',\n",
       " 'understanding and supporting dependability as ordinary action',\n",
       " 'introduction to scrum and agile concepts',\n",
       " 'development processes and frameworks',\n",
       " 'aliasing in object oriented systems',\n",
       " 'techniques for supporting dynamic and adaptive workflow',\n",
       " 'the artificial immune ecosystem: a bio-inspired meta-algorithm for boosting time series anomaly detection with expert input',\n",
       " 'functional high performance financial it',\n",
       " 'introduction to scrum and agile concepts',\n",
       " 'protecting the transportation sector from the negative impacts of climate change',\n",
       " 'a study of the subject-oriented approach for automation and process modeling of a service company',\n",
       " 'e',\n",
       " 'ideological foundation',\n",
       " 'value-based argumentation for justifying compliance',\n",
       " 'discovering patterns for prognostics: a case study in prognostics of train wheels',\n",
       " 'proactive byzantine quorum systems',\n",
       " 'a framework for design tradeoffs',\n",
       " 'personalised information retrieval: survey and classification',\n",
       " 'multi-robot collaboration for robust exploration',\n",
       " 'the framework of intelligent vehicles',\n",
       " 'ml-supported identification and prioritization of threats in the ovvl threat modelling tool',\n",
       " 'lean management effects - an empirical evidence from machine building industries in europe',\n",
       " 'design for business innovation: linking the value chains of logistics service and cargo insurance companies by designing a collaborative service infrastructure',\n",
       " 'an approach to assess risks related to information system in supply chain',\n",
       " 'development of a procedure model for business process oriented implementation of standard software',\n",
       " 'success factors for serious games to enhance learning: a systematic review',\n",
       " 'things that help out: designing smart wearables as partners in stress management',\n",
       " 'multi-level transaction management for complex objects: implementation, performance, parallelism',\n",
       " 'privileged account management implementation',\n",
       " 'modeling a logistics pooling strategy for agri-food smes',\n",
       " 'implications of emerging data mining',\n",
       " 'review and insight on the behavioral aspects of cybersecurity',\n",
       " 'testing in the cloud: strategies, risks and benefits',\n",
       " 'technical research priorities for big data',\n",
       " 'a comprehensive comparison of gpu implementations of cardiac electrophysiology models',\n",
       " 'architectural prototyping in industrial practice',\n",
       " '“make it personal!” - gathering input from stakeholders for a learning analytics-supported learning design tool',\n",
       " 'integration of social concerns in collaborative logistics and transportation networks',\n",
       " 'framework for extreme imbalance classification: swim—sampling with the majority class',\n",
       " 'software issues: risks and liabilities',\n",
       " 'software issues: risks and liabilities',\n",
       " 'software issues: risks and liabilities',\n",
       " 'software issues: risks and liabilities',\n",
       " 'white-box cryptography: don’t forget about grey-box attacks',\n",
       " 'toward an understanding of bug fix patterns',\n",
       " 'fault-aware grid scheduling using performance prediction by workload modeling',\n",
       " 'strategy',\n",
       " 'digital society: a computing science prospective',\n",
       " 'flux-based vs. topology-based similarity of metabolic genes',\n",
       " 'does being motivated to avoid procedural errors influence their systematicity?',\n",
       " 'software issues: risks and liabilities',\n",
       " 'security provisioning in pervasive environments using multi-objective optimization',\n",
       " 'models of distributed secure computing',\n",
       " 'software issues: risks and liabilities',\n",
       " 'critical information infrastructure',\n",
       " 'modelling the user',\n",
       " 'how does scrum conform to the regulatory requirements defined in mdevspice®?',\n",
       " 'system development and integration methodology',\n",
       " 'designing a brand risk management process',\n",
       " 'user trust and understanding of explainable ai: exploring algorithm visualisations and user biases']"
      ]
     },
     "execution_count": 53,
     "metadata": {},
     "output_type": "execute_result"
    }
   ],
   "source": [
    "springerlinktitle"
   ]
  },
  {
   "cell_type": "code",
   "execution_count": 54,
   "id": "reasonable-aerospace",
   "metadata": {},
   "outputs": [],
   "source": [
    "springerlinktitle = set(springerlinktitle)"
   ]
  },
  {
   "cell_type": "code",
   "execution_count": 55,
   "id": "violent-wildlife",
   "metadata": {},
   "outputs": [
    {
     "data": {
      "text/plain": [
       "243"
      ]
     },
     "execution_count": 55,
     "metadata": {},
     "output_type": "execute_result"
    }
   ],
   "source": [
    "len(springerlinktitle)"
   ]
  },
  {
   "cell_type": "code",
   "execution_count": 56,
   "id": "other-bicycle",
   "metadata": {},
   "outputs": [],
   "source": [
    "titleset = ieeetitle.union(springerlinktitle)"
   ]
  },
  {
   "cell_type": "code",
   "execution_count": 57,
   "id": "dental-lighter",
   "metadata": {},
   "outputs": [
    {
     "data": {
      "text/plain": [
       "{'[journal first] are fix-inducing changes a moving target?: a longitudinal case study of just-in-time defect prediction',\n",
       " 'a cluster based feature selection method for cross-project software defect prediction',\n",
       " 'a comprehensive comparison of gpu implementations of cardiac electrophysiology models',\n",
       " 'a concept for an it-supported integrated earnings and risk management to strengthen the resilience of companies in times of crisis',\n",
       " 'a conceptual framework for stage configuration',\n",
       " 'a cost-sensitive shared hidden layer autoencoder for cross-project defect prediction',\n",
       " 'a framework for design tradeoffs',\n",
       " 'a framework for integrated proactive maintenance decision making and supplier selection',\n",
       " 'a framework for model-driven engineering of resilient software-controlled systems',\n",
       " 'a hybrid anomaly detection framework in cloud computing using one-class and two-class support vector machines',\n",
       " 'a just-in-time compiler for a reconfigurable testing platform',\n",
       " 'a large-scale empirical study of just-in-time quality assurance',\n",
       " 'a learning roadmap for digital lean manufacturing',\n",
       " 'a markov model for fault-tolerant task parallel computations',\n",
       " 'a method of multi-perspective assessment of lean management',\n",
       " 'a multi-agent scheduling model for maximizing agent satisfaction',\n",
       " 'a non-intrusive deep learning based diagnosis system for elevators',\n",
       " 'a preliminary evaluation of cpdp approaches on just-in-time software defect prediction',\n",
       " 'a process framework combining safety and security in practice',\n",
       " 'a reference architecture for iot-enabled dynamic planning in smart logistics',\n",
       " 'a replication study: just-in-time defect prediction with ensemble learning',\n",
       " 'a review of system modeling, assessment and operational optimization for integrated energy systems',\n",
       " 'a sanctuary for mobile agents',\n",
       " 'a state of the art review of intelligent scheduling',\n",
       " 'a study of applying deep learning-based weighted combinations to improve defect prediction accuracy and effectiveness',\n",
       " 'a study of the subject-oriented approach for automation and process modeling of a service company',\n",
       " 'a study on the changes of dynamic feature code when fixing bugs: towards the benefits and costs of python dynamic features',\n",
       " 'a survey on spot pricing in cloud computing',\n",
       " 'a survey on the moving target defense strategies: an architectural perspective',\n",
       " 'a survival analysis of source files modified by new developers',\n",
       " 'a taxonomy of side channel attacks on critical infrastructures and relevant systems',\n",
       " 'accurate proactive adaptation of service-oriented systems',\n",
       " 'achieving agility in it project portfolios – a systematic literature review',\n",
       " 'achieving dependability in service-oriented systems',\n",
       " 'addressing problems with replicability and validity of repository mining studies through a smart data platform',\n",
       " 'aliasing in object oriented systems',\n",
       " 'ammonia: an approach for deriving project-specific bug patterns',\n",
       " 'an approach to assess risks related to information system in supply chain',\n",
       " 'an empirical study of crash-inducing commits in mozilla firefox',\n",
       " 'an empirical study of ensemble techniques for software fault prediction',\n",
       " 'an empirical study on data sampling for just-in-time defect prediction',\n",
       " 'an empirical study on the use of szz for identifying inducing changes of non-functional bugs',\n",
       " 'an exploratory study of risk factors for implementing service-oriented is projects',\n",
       " 'an implementation of just-in-time fault-prone prediction technique using text classifier',\n",
       " 'an investigation of cross-project learning in online just-in-time software defect prediction',\n",
       " 'analyzing privacy risk in human mobility data',\n",
       " 'architectural prototyping in industrial practice',\n",
       " 'architecture for digital spare-parts library: use of additive layer manufacturing in the petroleum industry',\n",
       " 'are fix-inducing changes a moving target? a longitudinal case study of just-in-time defect prediction',\n",
       " 'assessgrid strategies for provider ranking mechanisms in risk–aware grid systems',\n",
       " 'assessing and optimizing the performance impact of the just-in-time configuration parameters - a case study on pypy',\n",
       " 'assessing personalized software defect predictors',\n",
       " 'assessment of agile maturity models: a multiple case study',\n",
       " 'automatic feature exploration and an application in defect prediction',\n",
       " 'balancing the trade-off between accuracy and interpretability in software defect prediction',\n",
       " 'boosting crash-inducing change localization with rank-performance-based feature subset selection',\n",
       " 'bringing interactive process mining to health professionals: interactive data rodeos',\n",
       " 'capa: the spirit of beaver against physical attacks',\n",
       " 'case studies: synthesis of addm algorithms for real-world systems',\n",
       " 'case study 1: evolution of a legacy system',\n",
       " 'cc2vec: distributed representations of code changes',\n",
       " 'change-enabled software systems',\n",
       " 'changelocator: locate crash-inducing changes based on crash reports',\n",
       " 'chapter 5: security and management',\n",
       " 'class imbalance evolution and verification latency in just-in-time software defect prediction',\n",
       " 'clever: combining code metrics with clone detection for just-in-time fault prevention and resolution in large industrial projects',\n",
       " 'code churn: a neglected metric in effort-aware just-in-time defect prediction',\n",
       " 'combined classifier for cross-project defect prediction: an extended empirical study',\n",
       " 'computer vision',\n",
       " 'continuous build outcome prediction: a small-n experiment in settings of a real software project',\n",
       " 'continuous defect prediction: the idea and a related dataset',\n",
       " 'corrective commit probability: a measure of the effort invested in bug fixing',\n",
       " 'cost-sensitive transfer kernel canonical correlation analysis for heterogeneous defect prediction',\n",
       " 'creating components',\n",
       " 'cregit: token-level blame information in git version control repositories',\n",
       " 'critical information infrastructure',\n",
       " 'cross project defect prediction via balanced distribution adaptation based transfer learning',\n",
       " 'cross-project just-in-time bug prediction for mobile apps: an empirical assessment',\n",
       " 'current state of security',\n",
       " 'data assurance in opaque computations',\n",
       " 'data mining for software engineering and humans in the loop',\n",
       " 'debugging aspect-enabled programs',\n",
       " 'deep learning for just-in-time defect prediction',\n",
       " 'deep semantic feature learning for software defect prediction',\n",
       " 'deepjit: an end-to-end deep learning framework for just-in-time defect prediction',\n",
       " 'defect prediction model of static code features for cross-company and cross-project software',\n",
       " 'dependability as ordinary action',\n",
       " 'design for business innovation: linking the value chains of logistics service and cargo insurance companies by designing a collaborative service infrastructure',\n",
       " 'designing a brand risk management process',\n",
       " 'development and implementation of a safety management system in a lean airline',\n",
       " 'development of a procedure model for business process oriented implementation of standard software',\n",
       " 'development processes and frameworks',\n",
       " 'digital manufacturing/industry 4.0',\n",
       " 'digital society: a computing science prospective',\n",
       " 'dimensions of cybersecurity risk management',\n",
       " 'discovering patterns for prognostics: a case study in prognostics of train wheels',\n",
       " 'discrete event complex systems: scheduling with neural networks',\n",
       " 'does being motivated to avoid procedural errors influence their systematicity?',\n",
       " 'does class size matter? an in-depth assessment of the effect of class size in software defect prediction',\n",
       " 'does socio-technical congruence have an effect on continuous integration build failures? an empirical study on 10 github projects',\n",
       " 'dp-share: privacy-preserving software defect prediction model sharing through differential privacy',\n",
       " 'drastic: a run-time architecture for evolving, distributed, persistent systems',\n",
       " 'e',\n",
       " 'early warning system potential for single sourcing risk mitigation',\n",
       " 'editor’s note: special section on software maintenance and evolution',\n",
       " 'effective enhancement of loop versioning in java',\n",
       " 'effort-aware just-in-time bug prediction for mobile apps via cross-triplet deep feature embedding',\n",
       " 'effort-aware tri-training for semi-supervised just-in-time defect prediction',\n",
       " 'emerging topics in mining software repositories',\n",
       " 'empirical evaluation of hunk metrics as bug predictors',\n",
       " 'enabling a pervasive approach for intelligent decision support in critical health care',\n",
       " 'encyclopedia of big data technologies',\n",
       " 'encyclopedia of cryptography and security',\n",
       " 'encyclopedia of database systems',\n",
       " 'encyclopedia of education and information technologies',\n",
       " 'encyclopedia of gis',\n",
       " 'enhancing just-in-time defect prediction using change request-based metrics',\n",
       " 'enhancing regional digital preparedness on natural hazards to safeguard business resilience in the asia-pacific',\n",
       " 'equity arbitrage',\n",
       " 'errors and error recovery',\n",
       " 'establishing operational models for dynamic compilation in a simulation platform',\n",
       " 'estimating the number of remaining links in traceability recovery',\n",
       " 'evaluating network embedding techniques’ performances in software bug prediction',\n",
       " 'evaluating the impact of falsely detected performance bug-inducing changes in jit models',\n",
       " 'experience report: investigating bug fixes in machine learning frameworks/libraries',\n",
       " 'experiences and challenges of introducing risk-based testing in an industrial project',\n",
       " 'explainable just-in-time bug prediction: are we there yet?',\n",
       " 'exploiting domain ontologies and intelligent agents: an automated network management support paradigm',\n",
       " \"exploring the interaction between java's implicitly thrown exceptions and instruction scheduling\",\n",
       " 'fault class prediction in unsupervised learning using model-based clustering approach',\n",
       " 'fault-aware grid scheduling using performance prediction by workload modeling',\n",
       " 'file-level defect prediction: unsupervised vs. supervised models',\n",
       " 'flux-based vs. topology-based similarity of metabolic genes',\n",
       " 'formal specification and verification of the pgvt algorithm',\n",
       " 'fractionated software for networked cyber-physical systems: research directions and long-term vision',\n",
       " 'framework for extreme imbalance classification: swim—sampling with the majority class',\n",
       " 'functional high performance financial it',\n",
       " 'galileo: a simulation tool for leo satellite constellations',\n",
       " 'generating knowledge for the identification of device failure causes and the prediction of the times-to-failure in u-healthcare environments',\n",
       " 'getting started with azure security center',\n",
       " 'global scheduling based reliability-aware power management for multiprocessor real-time systems',\n",
       " 'guest editorial: mining software repositories',\n",
       " 'handbook of smart cities',\n",
       " 'hci requirements for transparency and accountability tools for cloud service chains',\n",
       " 'high performance numerical computing in java: language and compiler issues',\n",
       " 'high-confidence compositional reliability assessment of soa-based systems using machine learning techniques',\n",
       " 'high-impact bug report identification with imbalanced learning strategies',\n",
       " 'how bugs are born: a model to identify how bugs are introduced in software components',\n",
       " 'how does scrum conform to the regulatory requirements defined in mdevspice®?',\n",
       " 'how to keep your head above water while detecting errors',\n",
       " 'how well just-in-time defect prediction techniques enhance software reliability?',\n",
       " 'ideological foundation',\n",
       " 'impacts of tei on smes',\n",
       " 'implications of emerging data mining',\n",
       " 'improving the quality of software by quantifying the code change metric and predicting the bugs',\n",
       " 'information and knowledge economies',\n",
       " 'information systems management',\n",
       " 'instruction scheduling in the presence of java’s runtime exceptions',\n",
       " 'integrated neurofuzzy-jitl model and its application in batch processes',\n",
       " 'integrating a general bayesian network with multi-agent simulation to optimize supply chain management',\n",
       " 'integrating manual and automatic risk assessment for risk-based testing',\n",
       " 'integration of fiber optic cable diagnostics within aerospace transceivers',\n",
       " 'integration of manufacturing system and product design with dmu',\n",
       " 'integration of risk and resilience into policy',\n",
       " 'integration of social concerns in collaborative logistics and transportation networks',\n",
       " 'integrative education model for resources and critical infrastructure protection based on risk assessment, resources valorization and threat ranking',\n",
       " 'internal structure',\n",
       " 'introducing policy-driven governance and service level failure mitigation in cloud service brokers: challenges ahead',\n",
       " 'introduction to part iii: markers to mhealth predictors',\n",
       " 'introduction to scrum and agile concepts',\n",
       " 'is bigger data better for defect prediction: examining the impact of data size on supervised and unsupervised defect prediction',\n",
       " 'it enabled risk management for taxation and customs: the case of aeo assessment in the netherlands',\n",
       " 'jarvis, a hardware/software framework for resilient industry 4.0 systems',\n",
       " 'jaskier: a supporting software tool for\\xa0continuous build outcome prediction practice',\n",
       " 'jitbot: an explainable just-in-time defect prediction bot',\n",
       " 'jitline: a simpler, better, faster, finer-grained just-in-time defect prediction',\n",
       " 'just-in-time bug prediction in mobile applications: the domain matters!',\n",
       " 'just-in-time customer churn prediction in the telecommunication sector',\n",
       " 'just-in-time software defect prediction using deep temporal convolutional networks',\n",
       " 'large-scale empirical studies on effort-aware security vulnerability prediction methods',\n",
       " 'lean management effects - an empirical evidence from machine building industries in europe',\n",
       " 'leveraging fault localisation to enhance defect prediction',\n",
       " 'maintenance management characterization: process, framework and supporting pillars',\n",
       " 'manage risk in the language of business',\n",
       " 'ml-supported identification and prioritization of threats in the ovvl threat modelling tool',\n",
       " 'modeling a logistics pooling strategy for agri-food smes',\n",
       " 'modeling opportunities in mhealth cyber-physical systems',\n",
       " 'modelling the user',\n",
       " 'models of distributed secure computing',\n",
       " 'multi-level transaction management for complex objects: implementation, performance, parallelism',\n",
       " 'multi-robot collaboration for robust exploration',\n",
       " 'on the assessment of software defect prediction models via roc curves',\n",
       " 'on the need of functional priority and failure risk assessment to optimize human resource allocation in public service organizations',\n",
       " 'on the need of preserving order of data when validating within-project defect classifiers',\n",
       " 'on the time-based conclusion stability of cross-project defect prediction models',\n",
       " 'online defect prediction for imbalanced data',\n",
       " 'operational analysis and basic queueing models',\n",
       " 'overview of agile software development',\n",
       " 'particle filtering-based methods for time to failure estimation with a real-world prognostic application',\n",
       " 'personalised information retrieval: survey and classification',\n",
       " 'personalized defect prediction',\n",
       " 'pki as part of an integrated risk management strategy for web security',\n",
       " 'poster: bridging effort-aware prediction and strong classification - a just-in-time software defect prediction study',\n",
       " 'potential rating indicators for cyberinsurance: an exploratory qualitative study',\n",
       " 'practical risk management',\n",
       " 'practical security aspects of the internet of things',\n",
       " 'predictable parallel performance: the bsp model',\n",
       " 'predicting and monitoring bug-proneness at the feature level',\n",
       " 'predicting defective modules in different test phases',\n",
       " 'predicting defects with latent and semantic features from commit logs in an industrial setting',\n",
       " 'predicting risk of pre-release code changes with checkinmentor',\n",
       " 'privileged account management implementation',\n",
       " 'proactive byzantine quorum systems',\n",
       " 'process variability through automated late selection of fragments',\n",
       " 'prompt, a decision support system for opportunity-based preventive maintenance',\n",
       " 'protecting personal information in cloud computing',\n",
       " 'protecting the transportation sector from the negative impacts of climate change',\n",
       " 'quality-related locally weighted soft sensing for non-stationary processes by a supervised bayesian network with latent variables',\n",
       " 'quick remedy commits and their impact on mining software repositories',\n",
       " 'relation between abductive and inductive types of nursing risk management',\n",
       " 'reliable condition monitoring of telecommunication services with time-varying load characteristic',\n",
       " 'rem in agile projects',\n",
       " 'research topics in spoken dialogue technology',\n",
       " 'review and insight on the behavioral aspects of cybersecurity',\n",
       " 'revisiting supervised and unsupervised models for effort-aware just-in-time defect prediction',\n",
       " 'revisiting the impact of concept drift on just-in-time quality assurance',\n",
       " 'robot/vision system calibrations in automated assembly',\n",
       " 'safety assurance of open adaptive systems – a survey',\n",
       " 'safety case development - a practical guide',\n",
       " 'sample privileged access management use cases',\n",
       " 'scheduling in overlaid star all-photonic networks with large propagation delays',\n",
       " 'scm: supply chain management',\n",
       " 'scripting .net using mondrian',\n",
       " 'searching for bellwether developers for cross-personalized defect prediction',\n",
       " 'sector-specific information infrastructure issues in the oil, gas, and petrochemical sector',\n",
       " 'security and governance',\n",
       " 'security code smells in android icc',\n",
       " 'security provisioning in pervasive environments using multi-objective optimization',\n",
       " 'simplified deep forest model based just-in-time defect prediction for android mobile apps',\n",
       " 'simplify and rationalize it and security',\n",
       " 'smart car space: an application',\n",
       " 'software development bug tracking: “tool isn’t user friendly” or “user isn’t process friendly”',\n",
       " 'software issues: risks and liabilities',\n",
       " 'static source code metrics and static analysis warnings for fine-grained just-in-time defect prediction',\n",
       " 'strategy',\n",
       " 'strategy development, risk assessment and resource management: some issues related to the implementation of the verification regime of the chemical weapons convention',\n",
       " 'student and expert modelling for simulation-based training: a cost effective framework',\n",
       " 'studying high impact fix-inducing changes',\n",
       " 'studying just-in-time defect prediction using cross-project models',\n",
       " 'success factors for serious games to enhance learning: a systematic review',\n",
       " 'supervised vs unsupervised models: a holistic look at effort-aware just-in-time defect prediction',\n",
       " 'system development and integration methodology',\n",
       " 'table of contents',\n",
       " 'tackling class overlap and imbalance problems in software defect prediction',\n",
       " 'tailoring interface for spanish language: a case study with chica system',\n",
       " 'teaching and computers',\n",
       " 'technical research priorities for big data',\n",
       " 'techniques for supporting dynamic and adaptive workflow',\n",
       " 'testing in the cloud: strategies, risks and benefits',\n",
       " 'the anticipatory approach: definitions and taxonomies',\n",
       " 'the artificial immune ecosystem: a bio-inspired meta-algorithm for boosting time series anomaly detection with expert input',\n",
       " 'the framework of intelligent vehicles',\n",
       " 'the future(s) of social machines: the research agenda',\n",
       " 'the ghost commit problem when identifying fix-inducing changes: an empirical study of apache projects',\n",
       " 'the impact of automated feature selection techniques on the interpretation of defect models',\n",
       " 'the impact of context metrics on just-in-time defect prediction',\n",
       " 'the impact of data merging on the interpretation of cross-project just-in-time defect models',\n",
       " 'the impact of duplicate changes on just-in-time defect prediction',\n",
       " 'the impact of human discussions on just-in-time quality assurance: an empirical study on openstack and eclipse',\n",
       " 'the impact of mislabeled changes by szz on just-in-time defect prediction',\n",
       " 'the relation of test-related factors to software quality: a case study on apache systems',\n",
       " 'the relationship between commit message detail and defect proneness in java projects on github',\n",
       " 'the secret life of test smells - an empirical study on test smell evolution and maintenance',\n",
       " 'things that help out: designing smart wearables as partners in stress management',\n",
       " 'threat poker: gamification of secure agile',\n",
       " 'time series prediction algorithm for intelligent predictive maintenance',\n",
       " 'toward an understanding of bug fix patterns',\n",
       " 'towards a generic resilience management, quantification and development process: general definitions, requirements, methods, techniques and measures, and case studies',\n",
       " 'towards just-in-time suggestions for log changes',\n",
       " 'towards smartphone-based assessment of burnout',\n",
       " 'traffic management for cloud federation',\n",
       " 'training data selection using ensemble dataset approach for software defect prediction',\n",
       " 'types of software fault prediction',\n",
       " 'understanding and supporting dependability as ordinary action',\n",
       " 'user trust and understanding of explainable ai: exploring algorithm visualisations and user biases',\n",
       " 'using classification methods to reinforce the impact of social factors on software success',\n",
       " 'using modeling and simulation as a framework for testing new solutions devoted to securing global flows of goods and people',\n",
       " 'value-based argumentation for justifying compliance',\n",
       " 'verifying the stability and sensitivity of learning analytics based prediction models: an extended case study',\n",
       " 'versionized process based on non-volatile random-access memory for fine-grained fault tolerance',\n",
       " 'vuldigger: a just-in-time and cost-aware tool for digging vulnerability-contributing changes',\n",
       " 'warning-introducing commits vs bug-introducing commits: a tool, statistical models, and a preliminary user study',\n",
       " 'watch out for extrinsic bugs! a case study of their impact in just-in-time bug prediction models on the openstack project',\n",
       " 'weighted software metrics aggregation and its application to defect prediction',\n",
       " 'white-box cryptography: don’t forget about grey-box attacks',\n",
       " 'workflow scheduling in cloud: a survey',\n",
       " '“make it personal!” - gathering input from stakeholders for a learning analytics-supported learning design tool'}"
      ]
     },
     "execution_count": 57,
     "metadata": {},
     "output_type": "execute_result"
    }
   ],
   "source": [
    "titleset"
   ]
  },
  {
   "cell_type": "code",
   "execution_count": 58,
   "id": "forced-account",
   "metadata": {},
   "outputs": [
    {
     "data": {
      "text/plain": [
       "297"
      ]
     },
     "execution_count": 58,
     "metadata": {},
     "output_type": "execute_result"
    }
   ],
   "source": [
    "len(titleset)"
   ]
  },
  {
   "cell_type": "code",
   "execution_count": 61,
   "id": "pediatric-butter",
   "metadata": {},
   "outputs": [],
   "source": [
    "ieeespringerlink = pd.DataFrame(list(titleset))"
   ]
  },
  {
   "cell_type": "code",
   "execution_count": 62,
   "id": "passive-stationery",
   "metadata": {},
   "outputs": [
    {
     "data": {
      "text/plain": [
       "['scm: supply chain management',\n",
       " 'strategy',\n",
       " 'on the assessment of software defect prediction models via roc curves']"
      ]
     },
     "execution_count": 62,
     "metadata": {},
     "output_type": "execute_result"
    }
   ],
   "source": [
    "list(titleset)[:3]"
   ]
  },
  {
   "cell_type": "code",
   "execution_count": 60,
   "id": "pediatric-virus",
   "metadata": {},
   "outputs": [
    {
     "data": {
      "text/html": [
       "<div>\n",
       "<style scoped>\n",
       "    .dataframe tbody tr th:only-of-type {\n",
       "        vertical-align: middle;\n",
       "    }\n",
       "\n",
       "    .dataframe tbody tr th {\n",
       "        vertical-align: top;\n",
       "    }\n",
       "\n",
       "    .dataframe thead th {\n",
       "        text-align: right;\n",
       "    }\n",
       "</style>\n",
       "<table border=\"1\" class=\"dataframe\">\n",
       "  <thead>\n",
       "    <tr style=\"text-align: right;\">\n",
       "      <th></th>\n",
       "      <th>0</th>\n",
       "    </tr>\n",
       "  </thead>\n",
       "  <tbody>\n",
       "    <tr>\n",
       "      <th>0</th>\n",
       "      <td>scm: supply chain management</td>\n",
       "    </tr>\n",
       "    <tr>\n",
       "      <th>1</th>\n",
       "      <td>strategy</td>\n",
       "    </tr>\n",
       "    <tr>\n",
       "      <th>2</th>\n",
       "      <td>on the assessment of software defect predictio...</td>\n",
       "    </tr>\n",
       "    <tr>\n",
       "      <th>3</th>\n",
       "      <td>getting started with azure security center</td>\n",
       "    </tr>\n",
       "    <tr>\n",
       "      <th>4</th>\n",
       "      <td>techniques for supporting dynamic and adaptive...</td>\n",
       "    </tr>\n",
       "  </tbody>\n",
       "</table>\n",
       "</div>"
      ],
      "text/plain": [
       "                                                   0\n",
       "0                       scm: supply chain management\n",
       "1                                           strategy\n",
       "2  on the assessment of software defect predictio...\n",
       "3         getting started with azure security center\n",
       "4  techniques for supporting dynamic and adaptive..."
      ]
     },
     "execution_count": 60,
     "metadata": {},
     "output_type": "execute_result"
    }
   ],
   "source": [
    "ieeespringerlink.head()"
   ]
  },
  {
   "cell_type": "code",
   "execution_count": 63,
   "id": "radical-jewelry",
   "metadata": {},
   "outputs": [],
   "source": [
    "ieeespringerlink.to_csv(\"ieeespringerlinktitle.csv\")"
   ]
  },
  {
   "cell_type": "code",
   "execution_count": null,
   "id": "critical-minneapolis",
   "metadata": {},
   "outputs": [],
   "source": []
  },
  {
   "cell_type": "code",
   "execution_count": null,
   "id": "gorgeous-password",
   "metadata": {},
   "outputs": [],
   "source": []
  },
  {
   "cell_type": "code",
   "execution_count": null,
   "id": "higher-backup",
   "metadata": {},
   "outputs": [],
   "source": []
  },
  {
   "cell_type": "code",
   "execution_count": null,
   "id": "medium-packing",
   "metadata": {},
   "outputs": [],
   "source": []
  },
  {
   "cell_type": "code",
   "execution_count": null,
   "id": "leading-intranet",
   "metadata": {},
   "outputs": [],
   "source": []
  },
  {
   "cell_type": "code",
   "execution_count": null,
   "id": "jewish-simpson",
   "metadata": {},
   "outputs": [],
   "source": []
  },
  {
   "cell_type": "markdown",
   "id": "threatened-wagner",
   "metadata": {},
   "source": [
    "## bib files: ACM, wiley and ScienceDirect"
   ]
  },
  {
   "cell_type": "code",
   "execution_count": 85,
   "id": "noticed-serum",
   "metadata": {},
   "outputs": [],
   "source": [
    "from pybtex.database.input import bibtex"
   ]
  },
  {
   "cell_type": "markdown",
   "id": "arabic-china",
   "metadata": {},
   "source": [
    "### acm"
   ]
  },
  {
   "cell_type": "code",
   "execution_count": 86,
   "id": "illegal-tracy",
   "metadata": {},
   "outputs": [],
   "source": [
    "parser = bibtex.Parser()"
   ]
  },
  {
   "cell_type": "code",
   "execution_count": 87,
   "id": "historical-liability",
   "metadata": {},
   "outputs": [],
   "source": [
    "acm = parser.parse_file('ACM/acm.bib')"
   ]
  },
  {
   "cell_type": "code",
   "execution_count": 88,
   "id": "musical-consent",
   "metadata": {},
   "outputs": [
    {
     "data": {
      "text/plain": [
       "'Just-in-Time Bug Prediction in Mobile Applications: The Domain Matters!'"
      ]
     },
     "execution_count": 88,
     "metadata": {},
     "output_type": "execute_result"
    }
   ],
   "source": [
    "acm.entries['10.1109/MOBILESoft.2017.58'].fields['title']"
   ]
  },
  {
   "cell_type": "code",
   "execution_count": 90,
   "id": "growing-equipment",
   "metadata": {},
   "outputs": [],
   "source": [
    "acmtitlelist = []\n",
    "for e in acm.entries:\n",
    "    acmtitlelist.append(acm.entries[e].fields['title'].lower())"
   ]
  },
  {
   "cell_type": "code",
   "execution_count": 91,
   "id": "rental-title",
   "metadata": {},
   "outputs": [
    {
     "data": {
      "text/plain": [
       "50"
      ]
     },
     "execution_count": 91,
     "metadata": {},
     "output_type": "execute_result"
    }
   ],
   "source": [
    "len(acmtitlelist)"
   ]
  },
  {
   "cell_type": "code",
   "execution_count": 97,
   "id": "optical-dynamics",
   "metadata": {},
   "outputs": [],
   "source": [
    "setacmtitlelist = set(acmtitlelist)"
   ]
  },
  {
   "cell_type": "code",
   "execution_count": 98,
   "id": "particular-volume",
   "metadata": {},
   "outputs": [
    {
     "data": {
      "text/plain": [
       "50"
      ]
     },
     "execution_count": 98,
     "metadata": {},
     "output_type": "execute_result"
    }
   ],
   "source": [
    "len(setacmtitlelist)"
   ]
  },
  {
   "cell_type": "code",
   "execution_count": 100,
   "id": "surgical-hartford",
   "metadata": {},
   "outputs": [],
   "source": [
    "# setacmtitlelist"
   ]
  },
  {
   "cell_type": "code",
   "execution_count": 101,
   "id": "unsigned-chambers",
   "metadata": {},
   "outputs": [
    {
     "name": "stdout",
     "output_type": "stream",
     "text": [
      "297\n"
     ]
    }
   ],
   "source": [
    "print(len(titleset))"
   ]
  },
  {
   "cell_type": "code",
   "execution_count": 102,
   "id": "comprehensive-ending",
   "metadata": {},
   "outputs": [],
   "source": [
    "titleset = titleset.union(set(titlelist))"
   ]
  },
  {
   "cell_type": "code",
   "execution_count": 103,
   "id": "celtic-occasion",
   "metadata": {},
   "outputs": [
    {
     "data": {
      "text/plain": [
       "331"
      ]
     },
     "execution_count": 103,
     "metadata": {},
     "output_type": "execute_result"
    }
   ],
   "source": [
    "len(titleset)"
   ]
  },
  {
   "cell_type": "code",
   "execution_count": null,
   "id": "permanent-attendance",
   "metadata": {},
   "outputs": [],
   "source": []
  },
  {
   "cell_type": "code",
   "execution_count": null,
   "id": "honey-superior",
   "metadata": {},
   "outputs": [],
   "source": []
  },
  {
   "cell_type": "code",
   "execution_count": 104,
   "id": "closing-executive",
   "metadata": {},
   "outputs": [],
   "source": [
    "parser1 = bibtex.Parser()"
   ]
  },
  {
   "cell_type": "code",
   "execution_count": 105,
   "id": "usual-audio",
   "metadata": {},
   "outputs": [],
   "source": [
    "acm1 = parser1.parse_file('ACM/acm1.bib')\n",
    "acm1list = []\n",
    "for e in acm1.entries:\n",
    "    acm1list.append(acm1.entries[e].fields['title'].lower())"
   ]
  },
  {
   "cell_type": "code",
   "execution_count": 106,
   "id": "authentic-shoulder",
   "metadata": {},
   "outputs": [
    {
     "data": {
      "text/plain": [
       "51"
      ]
     },
     "execution_count": 106,
     "metadata": {},
     "output_type": "execute_result"
    }
   ],
   "source": [
    "len(acm1list)"
   ]
  },
  {
   "cell_type": "code",
   "execution_count": 107,
   "id": "behind-favorite",
   "metadata": {},
   "outputs": [],
   "source": [
    "acm1set = set(acm1list)"
   ]
  },
  {
   "cell_type": "code",
   "execution_count": 108,
   "id": "northern-lighting",
   "metadata": {},
   "outputs": [
    {
     "data": {
      "text/plain": [
       "50"
      ]
     },
     "execution_count": 108,
     "metadata": {},
     "output_type": "execute_result"
    }
   ],
   "source": [
    "len(acm1set)"
   ]
  },
  {
   "cell_type": "code",
   "execution_count": 109,
   "id": "promising-threat",
   "metadata": {},
   "outputs": [
    {
     "data": {
      "text/plain": [
       "{'a diagnosis algorithm for extreme space compaction',\n",
       " 'a parallel island model for biogeography-based classification rule mining in julia',\n",
       " 'a scenario-based simulation framework of on- and off-site construction logistics',\n",
       " 'a survey of challenges and opportunities in sensing and analytics for risk factors of cardiovascular disorders',\n",
       " 'adaptive system anomaly prediction for large-scale hosting infrastructures',\n",
       " 'an empirical study of crash-inducing commits in mozilla firefox',\n",
       " 'an industrial study on the risk of software changes',\n",
       " 'analysis of coupling evolution on open source systems',\n",
       " 'attack graph-based assessment of exploitability risks in automotive on-board networks',\n",
       " 'bisecting commits and modeling commit risk during testing',\n",
       " 'bug localization by learning to rank and represent bug inducing changes',\n",
       " 'cc2vec: distributed representations of code changes',\n",
       " 'cold-start software analytics',\n",
       " 'darp-mp: dynamically adaptable resilient pipeline design in multicore processors',\n",
       " 'darp: dynamically adaptable resilient pipeline design in microprocessors',\n",
       " 'design, use and evaluation of p-fsefi: a parallel soft error fault injection framework for emulating soft errors in parallel applications',\n",
       " 'edo: exception-directed optimization in java',\n",
       " 'effort-oriented methods and tools for software development and maintenance for mobile apps',\n",
       " 'empirical study in using version histories for change risk classification',\n",
       " 'error-aware gaze-based interfaces for robust mobile gaze interaction',\n",
       " 'feasibility study of monitoring deterioration of outpatients using multimodal data collected by wearables',\n",
       " 'flooding and recycling authorizations',\n",
       " 'frontmatter (toc, letters, election results, software reliability resources!, computing curricula 2004 and the software engineering volume se2004, software reuse research, icse 2005 forward)',\n",
       " 'generating knowledge for the identification of device failure causes and the prediction of the times-to-failure in u-healthcare environments',\n",
       " 'improving cybersecurity hygiene through jit patching',\n",
       " 'improving real-world vulnerability characterization with vulnerable slices',\n",
       " 'intellectual property aspects of web publishing',\n",
       " 'interactive feature extraction for diagnostic trouble codes in predictive maintenance: a case study from automotive domain',\n",
       " 'leveraging the defects life cycle to label affected versions and defective classes',\n",
       " 'locus: locating bugs from software changes',\n",
       " 'machine learning in mental health: a systematic review of the hci literature to support the development of effective and implementable ml systems',\n",
       " 'measuring high and low priority defects on traditional and mobile open source software',\n",
       " 'methodologies for quantifying (re-)randomization security and timing under jit-rop',\n",
       " 'patchnet: a tool for deep patch classification',\n",
       " 'pervasive computing technologies for healthcare',\n",
       " 'poster: towards compiler-assisted taint tracking on the android runtime (art)',\n",
       " 'practicing judo: java under dynamic optimizations',\n",
       " 'pragmatic prioritization of software quality assurance efforts',\n",
       " 'predicting pull request completion time: a case study on large scale cloud services',\n",
       " 'predicting software defects with explainable machine learning',\n",
       " 'screening heuristics for project gating systems',\n",
       " 'software is data too',\n",
       " 'software vulnerability analysis and discovery using machine-learning and data-mining techniques: a survey',\n",
       " 'stakeholder-centric analyses of simulated shipping port disruptions',\n",
       " 'the law of unintended consequences: the case of external subgoal support',\n",
       " 'toward proactive refactoring: an exploratory study on decaying modules',\n",
       " 'towards surgically-precise technical debt estimation: early results and research roadmap',\n",
       " 'transfer learning for cross-project change-proneness prediction in object-oriented software systems: a feasibility analysis',\n",
       " 'unsupervised deep bug report summarization',\n",
       " 'using passively collected sedentary behavior to predict hospital readmission'}"
      ]
     },
     "execution_count": 109,
     "metadata": {},
     "output_type": "execute_result"
    }
   ],
   "source": [
    "acm1set"
   ]
  },
  {
   "cell_type": "code",
   "execution_count": 110,
   "id": "social-track",
   "metadata": {},
   "outputs": [],
   "source": [
    "titleset = titleset.union(acm1set)"
   ]
  },
  {
   "cell_type": "code",
   "execution_count": 111,
   "id": "isolated-expense",
   "metadata": {},
   "outputs": [
    {
     "data": {
      "text/plain": [
       "378"
      ]
     },
     "execution_count": 111,
     "metadata": {},
     "output_type": "execute_result"
    }
   ],
   "source": [
    "len(titleset)"
   ]
  },
  {
   "cell_type": "code",
   "execution_count": 113,
   "id": "persistent-picture",
   "metadata": {},
   "outputs": [],
   "source": [
    "parser2 = bibtex.Parser()"
   ]
  },
  {
   "cell_type": "code",
   "execution_count": 114,
   "id": "compact-throw",
   "metadata": {},
   "outputs": [],
   "source": [
    "acm2 = parser2.parse_file('ACM/acm2.bib')\n",
    "acm2list = []\n",
    "for e in acm2.entries:\n",
    "    acm2list.append(acm2.entries[e].fields['title'].lower())"
   ]
  },
  {
   "cell_type": "code",
   "execution_count": 115,
   "id": "czech-pledge",
   "metadata": {},
   "outputs": [
    {
     "data": {
      "text/plain": [
       "50"
      ]
     },
     "execution_count": 115,
     "metadata": {},
     "output_type": "execute_result"
    }
   ],
   "source": [
    "len(acm2list)"
   ]
  },
  {
   "cell_type": "code",
   "execution_count": 116,
   "id": "reflected-aurora",
   "metadata": {},
   "outputs": [],
   "source": [
    "acmset2 = set(acm2list)"
   ]
  },
  {
   "cell_type": "code",
   "execution_count": 117,
   "id": "weekly-crack",
   "metadata": {},
   "outputs": [
    {
     "data": {
      "text/plain": [
       "50"
      ]
     },
     "execution_count": 117,
     "metadata": {},
     "output_type": "execute_result"
    }
   ],
   "source": [
    "len(acmset2)"
   ]
  },
  {
   "cell_type": "code",
   "execution_count": 118,
   "id": "funded-protection",
   "metadata": {},
   "outputs": [],
   "source": [
    "titleset = titleset.union(acmset2)"
   ]
  },
  {
   "cell_type": "code",
   "execution_count": 119,
   "id": "operational-information",
   "metadata": {},
   "outputs": [
    {
     "data": {
      "text/plain": [
       "428"
      ]
     },
     "execution_count": 119,
     "metadata": {},
     "output_type": "execute_result"
    }
   ],
   "source": [
    "len(titleset)"
   ]
  },
  {
   "cell_type": "code",
   "execution_count": 120,
   "id": "neutral-dealer",
   "metadata": {},
   "outputs": [],
   "source": [
    "parser3 = bibtex.Parser()"
   ]
  },
  {
   "cell_type": "code",
   "execution_count": 121,
   "id": "broken-vehicle",
   "metadata": {},
   "outputs": [],
   "source": [
    "acm3 = parser3.parse_file('ACM/acm3.bib')\n",
    "acm3list = []\n",
    "for e in acm3.entries:\n",
    "    acm3list.append(acm3.entries[e].fields['title'].lower())"
   ]
  },
  {
   "cell_type": "code",
   "execution_count": 122,
   "id": "impaired-simulation",
   "metadata": {},
   "outputs": [],
   "source": [
    "acmset3 = set(acm3list)"
   ]
  },
  {
   "cell_type": "code",
   "execution_count": 123,
   "id": "prospective-insulin",
   "metadata": {},
   "outputs": [
    {
     "name": "stdout",
     "output_type": "stream",
     "text": [
      "52 45\n"
     ]
    }
   ],
   "source": [
    "print(len(acm3list), len(acmset3))"
   ]
  },
  {
   "cell_type": "code",
   "execution_count": 124,
   "id": "federal-temperature",
   "metadata": {},
   "outputs": [],
   "source": [
    "titleset = titleset.union(acmset3)"
   ]
  },
  {
   "cell_type": "code",
   "execution_count": 125,
   "id": "stretch-commissioner",
   "metadata": {},
   "outputs": [
    {
     "data": {
      "text/plain": [
       "473"
      ]
     },
     "execution_count": 125,
     "metadata": {},
     "output_type": "execute_result"
    }
   ],
   "source": [
    "len(titleset)"
   ]
  },
  {
   "cell_type": "markdown",
   "id": "ranking-cutting",
   "metadata": {},
   "source": [
    "### wiley"
   ]
  },
  {
   "cell_type": "code",
   "execution_count": 126,
   "id": "republican-library",
   "metadata": {},
   "outputs": [],
   "source": [
    "wileyparser = bibtex.Parser()"
   ]
  },
  {
   "cell_type": "code",
   "execution_count": 127,
   "id": "developed-minority",
   "metadata": {},
   "outputs": [],
   "source": [
    "wiley = wileyparser.parse_file('Wiley/pericles_exported_citations.bib')"
   ]
  },
  {
   "cell_type": "code",
   "execution_count": 129,
   "id": "fundamental-taxation",
   "metadata": {},
   "outputs": [
    {
     "data": {
      "text/plain": [
       "'within-project and cross-project just-in-time defect prediction based on denoising autoencoder and convolutional neural network'"
      ]
     },
     "execution_count": 129,
     "metadata": {},
     "output_type": "execute_result"
    }
   ],
   "source": [
    "wiley.entries['https://doi.org/10.1049/iet-sen.2019.0278'].fields['title'].lower()"
   ]
  },
  {
   "cell_type": "code",
   "execution_count": 130,
   "id": "deadly-mitchell",
   "metadata": {},
   "outputs": [],
   "source": [
    "wileylist = []\n",
    "for e in wiley.entries:\n",
    "    wileylist.append(wiley.entries[e].fields['title'].lower())"
   ]
  },
  {
   "cell_type": "code",
   "execution_count": 131,
   "id": "minute-fluid",
   "metadata": {},
   "outputs": [
    {
     "name": "stdout",
     "output_type": "stream",
     "text": [
      "20 20\n"
     ]
    }
   ],
   "source": [
    "wileyset = set(wileylist)\n",
    "print(len(wileylist), len(wileyset))"
   ]
  },
  {
   "cell_type": "code",
   "execution_count": 135,
   "id": "general-showcase",
   "metadata": {},
   "outputs": [
    {
     "data": {
      "text/plain": [
       "493"
      ]
     },
     "execution_count": 135,
     "metadata": {},
     "output_type": "execute_result"
    }
   ],
   "source": [
    "titleset = titleset.union(wileyset)\n",
    "len(titleset)"
   ]
  },
  {
   "cell_type": "code",
   "execution_count": 138,
   "id": "valid-biography",
   "metadata": {},
   "outputs": [],
   "source": [
    "wiley11parser = bibtex.Parser()\n",
    "wiley11 = wiley11parser.parse_file('Wiley/pericles_exported_citations1.bib')\n",
    "wiley11list = []\n",
    "for e in wiley11.entries:\n",
    "    wiley11list.append(wiley11.entries[e].fields['title'].lower())"
   ]
  },
  {
   "cell_type": "code",
   "execution_count": 139,
   "id": "cellular-documentary",
   "metadata": {},
   "outputs": [
    {
     "name": "stdout",
     "output_type": "stream",
     "text": [
      "7 7\n"
     ]
    }
   ],
   "source": [
    "wiley11set = set(wiley11list)\n",
    "print(len(wiley11list), len(wiley11set))"
   ]
  },
  {
   "cell_type": "code",
   "execution_count": 140,
   "id": "united-private",
   "metadata": {},
   "outputs": [
    {
     "data": {
      "text/plain": [
       "500"
      ]
     },
     "execution_count": 140,
     "metadata": {},
     "output_type": "execute_result"
    }
   ],
   "source": [
    "titleset = titleset.union(wiley11set)\n",
    "len(titleset)"
   ]
  },
  {
   "cell_type": "markdown",
   "id": "isolated-diversity",
   "metadata": {},
   "source": [
    "### sciencedirect"
   ]
  },
  {
   "cell_type": "code",
   "execution_count": 142,
   "id": "committed-norman",
   "metadata": {},
   "outputs": [
    {
     "name": "stdout",
     "output_type": "stream",
     "text": [
      "81 81\n"
     ]
    }
   ],
   "source": [
    "sd1parser = bibtex.Parser()\n",
    "sd11 = sd1parser.parse_file('ScienceDirect/ScienceDirect_citations_1.bib')\n",
    "sd1list = []\n",
    "for e in sd11.entries:\n",
    "    sd1list.append(sd11.entries[e].fields['title'].lower())\n",
    "sd1set = set(sd1list)\n",
    "print(len(sd1list), len(sd1set))"
   ]
  },
  {
   "cell_type": "code",
   "execution_count": 143,
   "id": "heated-arrow",
   "metadata": {},
   "outputs": [
    {
     "data": {
      "text/plain": [
       "581"
      ]
     },
     "execution_count": 143,
     "metadata": {},
     "output_type": "execute_result"
    }
   ],
   "source": [
    "titleset = titleset.union(sd1set)\n",
    "len(titleset)"
   ]
  },
  {
   "cell_type": "code",
   "execution_count": 144,
   "id": "labeled-masters",
   "metadata": {},
   "outputs": [
    {
     "name": "stdout",
     "output_type": "stream",
     "text": [
      "100 100\n"
     ]
    }
   ],
   "source": [
    "sd2parser = bibtex.Parser()\n",
    "sd2 = sd2parser.parse_file('ScienceDirect/ScienceDirect_citations_2.bib')\n",
    "sd2list = []\n",
    "for e in sd2.entries:\n",
    "    sd2list.append(sd2.entries[e].fields['title'].lower())\n",
    "sd2set = set(sd2list)\n",
    "print(len(sd2list), len(sd2set))"
   ]
  },
  {
   "cell_type": "code",
   "execution_count": 145,
   "id": "looking-japanese",
   "metadata": {},
   "outputs": [
    {
     "data": {
      "text/plain": [
       "677"
      ]
     },
     "execution_count": 145,
     "metadata": {},
     "output_type": "execute_result"
    }
   ],
   "source": [
    "titleset = titleset.union(sd2set)\n",
    "len(titleset)"
   ]
  },
  {
   "cell_type": "code",
   "execution_count": 146,
   "id": "therapeutic-reduction",
   "metadata": {},
   "outputs": [
    {
     "name": "stdout",
     "output_type": "stream",
     "text": [
      "88 88\n"
     ]
    }
   ],
   "source": [
    "sd3parser = bibtex.Parser()\n",
    "sd3 = sd3parser.parse_file('ScienceDirect/ScienceDirect_citations_3.bib')\n",
    "sd3list = []\n",
    "for e in sd3.entries:\n",
    "    sd3list.append(sd3.entries[e].fields['title'].lower())\n",
    "sd3set = set(sd3list)\n",
    "print(len(sd3list), len(sd3set))"
   ]
  },
  {
   "cell_type": "code",
   "execution_count": 147,
   "id": "reserved-walter",
   "metadata": {},
   "outputs": [
    {
     "data": {
      "text/plain": [
       "762"
      ]
     },
     "execution_count": 147,
     "metadata": {},
     "output_type": "execute_result"
    }
   ],
   "source": [
    "titleset = titleset.union(sd3set)\n",
    "len(titleset)"
   ]
  },
  {
   "cell_type": "code",
   "execution_count": 148,
   "id": "professional-industry",
   "metadata": {},
   "outputs": [],
   "source": [
    "df = pd.DataFrame(list(titleset))"
   ]
  },
  {
   "cell_type": "code",
   "execution_count": 149,
   "id": "fitted-scanner",
   "metadata": {},
   "outputs": [],
   "source": [
    "df.to_csv(\"retafterremoveduplicate.csv\")"
   ]
  },
  {
   "cell_type": "code",
   "execution_count": 150,
   "id": "illegal-donna",
   "metadata": {},
   "outputs": [
    {
     "data": {
      "text/html": [
       "<div>\n",
       "<style scoped>\n",
       "    .dataframe tbody tr th:only-of-type {\n",
       "        vertical-align: middle;\n",
       "    }\n",
       "\n",
       "    .dataframe tbody tr th {\n",
       "        vertical-align: top;\n",
       "    }\n",
       "\n",
       "    .dataframe thead th {\n",
       "        text-align: right;\n",
       "    }\n",
       "</style>\n",
       "<table border=\"1\" class=\"dataframe\">\n",
       "  <thead>\n",
       "    <tr style=\"text-align: right;\">\n",
       "      <th></th>\n",
       "      <th>0</th>\n",
       "    </tr>\n",
       "  </thead>\n",
       "  <tbody>\n",
       "    <tr>\n",
       "      <th>count</th>\n",
       "      <td>762</td>\n",
       "    </tr>\n",
       "    <tr>\n",
       "      <th>unique</th>\n",
       "      <td>762</td>\n",
       "    </tr>\n",
       "    <tr>\n",
       "      <th>top</th>\n",
       "      <td>pervasive computing technologies for healthcare</td>\n",
       "    </tr>\n",
       "    <tr>\n",
       "      <th>freq</th>\n",
       "      <td>1</td>\n",
       "    </tr>\n",
       "  </tbody>\n",
       "</table>\n",
       "</div>"
      ],
      "text/plain": [
       "                                                      0\n",
       "count                                               762\n",
       "unique                                              762\n",
       "top     pervasive computing technologies for healthcare\n",
       "freq                                                  1"
      ]
     },
     "execution_count": 150,
     "metadata": {},
     "output_type": "execute_result"
    }
   ],
   "source": [
    "df.describe()"
   ]
  },
  {
   "cell_type": "code",
   "execution_count": null,
   "id": "acceptable-divorce",
   "metadata": {},
   "outputs": [],
   "source": []
  },
  {
   "cell_type": "code",
   "execution_count": null,
   "id": "running-proposition",
   "metadata": {},
   "outputs": [],
   "source": []
  }
 ],
 "metadata": {
  "kernelspec": {
   "display_name": "Python 3",
   "language": "python",
   "name": "python3"
  },
  "language_info": {
   "codemirror_mode": {
    "name": "ipython",
    "version": 3
   },
   "file_extension": ".py",
   "mimetype": "text/x-python",
   "name": "python",
   "nbconvert_exporter": "python",
   "pygments_lexer": "ipython3",
   "version": "3.7.10"
  }
 },
 "nbformat": 4,
 "nbformat_minor": 5
}
